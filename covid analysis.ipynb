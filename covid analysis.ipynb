{
 "cells": [
  {
   "cell_type": "markdown",
   "id": "8360bb4f",
   "metadata": {},
   "source": [
    "# Developer: Asim A. Attar\n",
    "# Project Title: Covid Analysis for Data Science Intern\n",
    "# 1st Step : Load the Libraries."
   ]
  },
  {
   "cell_type": "code",
   "execution_count": null,
   "id": "fe66fbd1",
   "metadata": {},
   "outputs": [],
   "source": [
    "import numpy as np\n",
    "import pandas as pd\n",
    "import matplotlib.pyplot as plt\n",
    "import seaborn as sb\n"
   ]
  },
  {
   "cell_type": "code",
   "execution_count": null,
   "id": "ebc2f48e",
   "metadata": {},
   "outputs": [],
   "source": [
    "d_e=pd.read_csv('D:\\\\Asim programs\\\\day_wise.csv')"
   ]
  },
  {
   "cell_type": "code",
   "execution_count": null,
   "id": "b4a421bc",
   "metadata": {},
   "outputs": [],
   "source": [
    "d_z=pd.read_csv('D:\\\\Asim programs\\\\worldometer_data.csv')"
   ]
  },
  {
   "cell_type": "code",
   "execution_count": null,
   "id": "939d7ea9",
   "metadata": {},
   "outputs": [],
   "source": [
    "d_x=pd.read_csv('D:\\\\Asim programs\\\\country_wise_latest.csv')"
   ]
  },
  {
   "cell_type": "markdown",
   "id": "a8a34b8c",
   "metadata": {},
   "source": [
    "### Assissing data"
   ]
  },
  {
   "cell_type": "markdown",
   "id": "b7b14345",
   "metadata": {},
   "source": [
    "#### virsul assissing"
   ]
  },
  {
   "cell_type": "code",
   "execution_count": null,
   "id": "1bc78a57",
   "metadata": {},
   "outputs": [],
   "source": [
    "d_e"
   ]
  },
  {
   "cell_type": "code",
   "execution_count": null,
   "id": "6720f292",
   "metadata": {},
   "outputs": [],
   "source": [
    "d_z\n"
   ]
  },
  {
   "cell_type": "code",
   "execution_count": null,
   "id": "ad62ed65",
   "metadata": {},
   "outputs": [],
   "source": [
    "d_x\n"
   ]
  },
  {
   "cell_type": "markdown",
   "id": "dcb61a29",
   "metadata": {},
   "source": [
    "#### programmatic assissing"
   ]
  },
  {
   "cell_type": "code",
   "execution_count": null,
   "id": "f0dcdcef",
   "metadata": {},
   "outputs": [],
   "source": [
    "d_x.head()"
   ]
  },
  {
   "cell_type": "code",
   "execution_count": null,
   "id": "4b4cb284",
   "metadata": {},
   "outputs": [],
   "source": [
    "d_z.head()"
   ]
  },
  {
   "cell_type": "code",
   "execution_count": null,
   "id": "2002c335",
   "metadata": {},
   "outputs": [],
   "source": [
    "d_e.head()"
   ]
  },
  {
   "cell_type": "code",
   "execution_count": null,
   "id": "8492e28e",
   "metadata": {},
   "outputs": [],
   "source": [
    "d_e.shape"
   ]
  },
  {
   "cell_type": "code",
   "execution_count": null,
   "id": "53449105",
   "metadata": {},
   "outputs": [],
   "source": [
    "d_x.shape"
   ]
  },
  {
   "cell_type": "code",
   "execution_count": null,
   "id": "f263584d",
   "metadata": {},
   "outputs": [],
   "source": [
    "d_z.shape"
   ]
  },
  {
   "cell_type": "code",
   "execution_count": null,
   "id": "12e0344b",
   "metadata": {},
   "outputs": [],
   "source": [
    "d_e.info()"
   ]
  },
  {
   "cell_type": "code",
   "execution_count": null,
   "id": "1cd20c33",
   "metadata": {},
   "outputs": [],
   "source": [
    "d_x.info()"
   ]
  },
  {
   "cell_type": "code",
   "execution_count": null,
   "id": "41cd6acb",
   "metadata": {},
   "outputs": [],
   "source": [
    "d_z.info()"
   ]
  },
  {
   "cell_type": "code",
   "execution_count": null,
   "id": "92e7b402",
   "metadata": {},
   "outputs": [],
   "source": [
    "d_e.isnull().sum()"
   ]
  },
  {
   "cell_type": "code",
   "execution_count": null,
   "id": "9ff705fb",
   "metadata": {},
   "outputs": [],
   "source": [
    "d_x.isnull().sum()"
   ]
  },
  {
   "cell_type": "code",
   "execution_count": null,
   "id": "8532c820",
   "metadata": {},
   "outputs": [],
   "source": [
    "d_z.isnull().sum()"
   ]
  },
  {
   "cell_type": "code",
   "execution_count": null,
   "id": "a49576d5",
   "metadata": {},
   "outputs": [],
   "source": [
    "d_e.duplicated().sum()"
   ]
  },
  {
   "cell_type": "code",
   "execution_count": null,
   "id": "04d48c04",
   "metadata": {},
   "outputs": [],
   "source": [
    "d_z.duplicated().sum()"
   ]
  },
  {
   "cell_type": "code",
   "execution_count": null,
   "id": "3da36839",
   "metadata": {},
   "outputs": [],
   "source": [
    "d_x.duplicated().sum()"
   ]
  },
  {
   "cell_type": "code",
   "execution_count": null,
   "id": "a67efd5b",
   "metadata": {},
   "outputs": [],
   "source": [
    "d_e.describe()"
   ]
  },
  {
   "cell_type": "code",
   "execution_count": null,
   "id": "2520a2a7",
   "metadata": {},
   "outputs": [],
   "source": [
    "d_x.describe()"
   ]
  },
  {
   "cell_type": "code",
   "execution_count": null,
   "id": "d9cb64e4",
   "metadata": {},
   "outputs": [],
   "source": [
    "d_z.describe()"
   ]
  },
  {
   "cell_type": "code",
   "execution_count": null,
   "id": "b31cb022",
   "metadata": {},
   "outputs": [],
   "source": [
    "d_e.describe(include='object')"
   ]
  },
  {
   "cell_type": "code",
   "execution_count": null,
   "id": "8ead0e0f",
   "metadata": {},
   "outputs": [],
   "source": [
    "d_x.describe(include='object')"
   ]
  },
  {
   "cell_type": "code",
   "execution_count": null,
   "id": "d4a38939",
   "metadata": {},
   "outputs": [],
   "source": [
    "d_z.describe(include='object')"
   ]
  },
  {
   "cell_type": "markdown",
   "id": "19144640",
   "metadata": {},
   "source": [
    "### Quiality\n",
    "- d_c & d_z & d_a have nulls value\n",
    "- Date in d_a,d_b,d_c,d_e has unvailed datatype\n"
   ]
  },
  {
   "cell_type": "markdown",
   "id": "a427a958",
   "metadata": {},
   "source": [
    "### Cleaning"
   ]
  },
  {
   "cell_type": "markdown",
   "id": "9628d640",
   "metadata": {},
   "source": [
    "#### Define\n",
    "drop nulls value "
   ]
  },
  {
   "cell_type": "markdown",
   "id": "c5c238d3",
   "metadata": {},
   "source": [
    "#### Code"
   ]
  },
  {
   "cell_type": "code",
   "execution_count": null,
   "id": "2a4c6069",
   "metadata": {},
   "outputs": [],
   "source": [
    "d_z.dropna(inplace=True)"
   ]
  },
  {
   "cell_type": "markdown",
   "id": "78ca1cdb",
   "metadata": {},
   "source": [
    "#### test"
   ]
  },
  {
   "cell_type": "code",
   "execution_count": null,
   "id": "9c8fb9af",
   "metadata": {},
   "outputs": [],
   "source": [
    "d_z.isnull().sum()"
   ]
  },
  {
   "cell_type": "markdown",
   "id": "5ce59893",
   "metadata": {},
   "source": [
    "#### Define\n",
    " replace Date in d_a,d_b,d_c,d_e has unvailed datatype into datetime"
   ]
  },
  {
   "cell_type": "markdown",
   "id": "8c405591",
   "metadata": {},
   "source": [
    "#### Code"
   ]
  },
  {
   "cell_type": "code",
   "execution_count": null,
   "id": "cd15fcea",
   "metadata": {},
   "outputs": [],
   "source": [
    "d_e['Date'] = pd.to_datetime(d_e['Date'])"
   ]
  },
  {
   "cell_type": "markdown",
   "id": "1c6cecfa",
   "metadata": {},
   "source": [
    "#### test"
   ]
  },
  {
   "cell_type": "code",
   "execution_count": null,
   "id": "543ddf99",
   "metadata": {},
   "outputs": [],
   "source": [
    "d_e.info()"
   ]
  },
  {
   "cell_type": "markdown",
   "id": "dfd09d66",
   "metadata": {},
   "source": [
    "### Analysis & visulization"
   ]
  },
  {
   "cell_type": "code",
   "execution_count": null,
   "id": "077b7120",
   "metadata": {},
   "outputs": [],
   "source": [
    "d_z['WHO Region'].value_counts()"
   ]
  },
  {
   "cell_type": "code",
   "execution_count": null,
   "id": "1919b07d",
   "metadata": {},
   "outputs": [],
   "source": [
    "d_e.sort_values(by=['Confirmed','Recovered'],ascending=False, inplace=True)\n",
    "d_e.head()"
   ]
  },
  {
   "cell_type": "code",
   "execution_count": null,
   "id": "cd5ac2a8",
   "metadata": {},
   "outputs": [],
   "source": [
    "d_x['Recovered / 100 Cases'].describe()"
   ]
  },
  {
   "cell_type": "markdown",
   "id": "1e69c688",
   "metadata": {},
   "source": [
    "#### 3 inshigts\n",
    "-\n",
    "-\n",
    "-"
   ]
  },
  {
   "cell_type": "code",
   "execution_count": null,
   "id": "d59de4ec",
   "metadata": {},
   "outputs": [],
   "source": [
    "co=sb.color_palette()[0]\n",
    "sb.countplot(data = d_z,y='WHO Region',color=co)"
   ]
  },
  {
   "cell_type": "code",
   "execution_count": null,
   "id": "e4fac00c",
   "metadata": {},
   "outputs": [],
   "source": [
    "sb.scatterplot(data=d_e,y='Confirmed',x='Recovered')\n",
    "plt.ylabel('Confirmed')\n",
    "plt.xlabel('Recovered')\n",
    "plt.title('relation')\n",
    "plt.show()"
   ]
  },
  {
   "cell_type": "code",
   "execution_count": null,
   "id": "42fa68a0",
   "metadata": {},
   "outputs": [],
   "source": [
    "r=np.arange(0,d_x['Recovered / 100 Cases'].max()+2.5,2.5)\n",
    "plt.hist(data = d_x,x='Recovered / 100 Cases',bins=r)"
   ]
  }
 ],
 "metadata": {
  "kernelspec": {
   "display_name": "Python 3.10.0 64-bit",
   "language": "python",
   "name": "python3"
  },
  "language_info": {
   "codemirror_mode": {
    "name": "ipython",
    "version": 3
   },
   "file_extension": ".py",
   "mimetype": "text/x-python",
   "name": "python",
   "nbconvert_exporter": "python",
   "pygments_lexer": "ipython3",
   "version": "3.10.0"
  },
  "vscode": {
   "interpreter": {
    "hash": "26de051ba29f2982a8de78e945f0abaf191376122a1563185a90213a26c5da77"
   }
  }
 },
 "nbformat": 4,
 "nbformat_minor": 5
}
